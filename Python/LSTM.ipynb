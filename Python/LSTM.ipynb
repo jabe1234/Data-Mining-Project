{
 "cells": [
  {
   "cell_type": "markdown",
   "id": "16e78ad4-5aff-4b4c-8cca-d30017eb2ea6",
   "metadata": {},
   "source": [
    "Long Short Term Memory"
   ]
  },
  {
   "cell_type": "markdown",
   "id": "70a8279a-8a80-485f-bc58-6fd31a7f4dfd",
   "metadata": {},
   "source": [
    "[Code Example](https://www.geeksforgeeks.org/long-short-term-memory-lstm-rnn-in-tensorflow/)\n",
    "\n",
    "[Concept Explaination](https://www.simplilearn.com/tutorials/artificial-intelligence-tutorial/lstm)"
   ]
  },
  {
   "cell_type": "code",
   "execution_count": 1,
   "id": "ede9f6f8-3300-4638-87a8-45ebf513b401",
   "metadata": {},
   "outputs": [
    {
     "name": "stderr",
     "output_type": "stream",
     "text": [
      "2024-12-05 06:24:34.538925: I tensorflow/core/platform/cpu_feature_guard.cc:193] This TensorFlow binary is optimized with oneAPI Deep Neural Network Library (oneDNN) to use the following CPU instructions in performance-critical operations:  SSE4.1 SSE4.2 AVX AVX2 AVX512F AVX512_VNNI FMA\n",
      "To enable them in other operations, rebuild TensorFlow with the appropriate compiler flags.\n",
      "2024-12-05 06:24:34.677093: I tensorflow/core/util/port.cc:104] oneDNN custom operations are on. You may see slightly different numerical results due to floating-point round-off errors from different computation orders. To turn them off, set the environment variable `TF_ENABLE_ONEDNN_OPTS=0`.\n"
     ]
    }
   ],
   "source": [
    "import pandas as pd\n",
    "import numpy as np\n",
    "import matplotlib.pyplot as plt\n",
    "import seaborn as sns\n",
    " \n",
    "from tensorflow import keras\n",
    "from keras.models import Sequential\n",
    "from keras.layers import Dense\n",
    "from keras.layers import LSTM"
   ]
  },
  {
   "cell_type": "code",
   "execution_count": null,
   "id": "1266c530-0663-418c-b918-675439ea6e7b",
   "metadata": {},
   "outputs": [],
   "source": []
  }
 ],
 "metadata": {
  "kernelspec": {
   "display_name": "Python 3 (ipykernel)",
   "language": "python",
   "name": "python3"
  },
  "language_info": {
   "codemirror_mode": {
    "name": "ipython",
    "version": 3
   },
   "file_extension": ".py",
   "mimetype": "text/x-python",
   "name": "python",
   "nbconvert_exporter": "python",
   "pygments_lexer": "ipython3",
   "version": "3.10.8"
  }
 },
 "nbformat": 4,
 "nbformat_minor": 5
}
