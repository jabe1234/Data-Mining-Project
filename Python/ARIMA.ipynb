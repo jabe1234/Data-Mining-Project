{
 "cells": [
  {
   "cell_type": "markdown",
   "id": "6f2bd634-c0aa-4a3c-a1cb-a9169aa2ccad",
   "metadata": {},
   "source": [
    "ARIMA - Autoregressive Integrated Moving Average"
   ]
  },
  {
   "cell_type": "markdown",
   "id": "8878784a-9bf5-4e88-9bc9-f4365a480d69",
   "metadata": {},
   "source": [
    "[Code Example](https://www.geeksforgeeks.org/python-arima-model-for-time-series-forecasting/)\n",
    "\n",
    "[Concept Explaination](https://www.ibm.com/topics/arima-model#:~:text=ARIMA%20stands%20for%20Autoregressive%20Integrated,to%20forecasting%20time%20series%20data.)"
   ]
  },
  {
   "cell_type": "code",
   "execution_count": null,
   "id": "b5e2810a-b391-41f4-beb4-0363c37418ec",
   "metadata": {},
   "outputs": [],
   "source": []
  }
 ],
 "metadata": {
  "kernelspec": {
   "display_name": "Python 3 (ipykernel)",
   "language": "python",
   "name": "python3"
  },
  "language_info": {
   "codemirror_mode": {
    "name": "ipython",
    "version": 3
   },
   "file_extension": ".py",
   "mimetype": "text/x-python",
   "name": "python",
   "nbconvert_exporter": "python",
   "pygments_lexer": "ipython3",
   "version": "3.10.8"
  }
 },
 "nbformat": 4,
 "nbformat_minor": 5
}
