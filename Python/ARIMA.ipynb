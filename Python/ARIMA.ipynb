{
 "cells": [
  {
   "cell_type": "markdown",
   "id": "6f2bd634-c0aa-4a3c-a1cb-a9169aa2ccad",
   "metadata": {},
   "source": [
    "ARIMA - Autoregressive Integrated Moving Average"
   ]
  },
  {
   "cell_type": "markdown",
   "id": "8878784a-9bf5-4e88-9bc9-f4365a480d69",
   "metadata": {},
   "source": [
    "[Code Example](https://www.geeksforgeeks.org/python-arima-model-for-time-series-forecasting/)\n",
    "\n",
    "[Concept Explaination](https://www.ibm.com/topics/arima-model#:~:text=ARIMA%20stands%20for%20Autoregressive%20Integrated,to%20forecasting%20time%20series%20data.)"
   ]
  },
  {
   "cell_type": "code",
   "execution_count": 1,
   "id": "b5e2810a-b391-41f4-beb4-0363c37418ec",
   "metadata": {},
   "outputs": [],
   "source": [
    "# Importing required libraries \n",
    "import numpy as np \n",
    "import pandas as pd \n",
    "import matplotlib.pyplot as plt\n",
    "from statsmodels.tsa.seasonal import seasonal_decompose "
   ]
  },
  {
   "cell_type": "code",
   "execution_count": 2,
   "id": "c5569c1c-d1d1-45dd-abf4-b84571b9737b",
   "metadata": {},
   "outputs": [
    {
     "name": "stdout",
     "output_type": "stream",
     "text": [
      "               Unnamed: 0.1  Unnamed: 0 iso_code FIRST_VACCINE_DATE  \\\n",
      "Date_reported                                                         \n",
      "2020-01-04                0           0      ABW         2021-02-17   \n",
      "2020-01-05                1           1      ABW         2021-02-17   \n",
      "2020-01-06                2           2      ABW         2021-02-17   \n",
      "2020-01-07                3           3      ABW         2021-02-17   \n",
      "2020-01-08                4           4      ABW         2021-02-17   \n",
      "2020-01-09                5           5      ABW         2021-02-17   \n",
      "2020-01-10                6           6      ABW         2021-02-17   \n",
      "2020-01-11                7           7      ABW         2021-02-17   \n",
      "2020-01-12                8           8      ABW         2021-02-17   \n",
      "2020-01-13                9           9      ABW         2021-02-17   \n",
      "2020-01-14               10          10      ABW         2021-02-17   \n",
      "2020-01-15               11          11      ABW         2021-02-17   \n",
      "2020-01-16               12          12      ABW         2021-02-17   \n",
      "2020-01-17               13          13      ABW         2021-02-17   \n",
      "2020-01-18               14          14      ABW         2021-02-17   \n",
      "2020-01-19               15          15      ABW         2021-02-17   \n",
      "2020-01-20               16          16      ABW         2021-02-17   \n",
      "2020-01-21               17          17      ABW         2021-02-17   \n",
      "2020-01-22               18          18      ABW         2021-02-17   \n",
      "2020-01-23               19          19      ABW         2021-02-17   \n",
      "2020-01-24               20          20      ABW         2021-02-17   \n",
      "2020-01-25               21          21      ABW         2021-02-17   \n",
      "2020-01-26               22          22      ABW         2021-02-17   \n",
      "2020-01-27               23          23      ABW         2021-02-17   \n",
      "2020-01-28               24          24      ABW         2021-02-17   \n",
      "2020-01-29               25          25      ABW         2021-02-17   \n",
      "2020-01-30               26          26      ABW         2021-02-17   \n",
      "2020-01-31               27          27      ABW         2021-02-17   \n",
      "2020-02-01               28          28      ABW         2021-02-17   \n",
      "2020-02-02               29          29      ABW         2021-02-17   \n",
      "2020-02-03               30          30      ABW         2021-02-17   \n",
      "2020-02-04               31          31      ABW         2021-02-17   \n",
      "2020-02-05               32          32      ABW         2021-02-17   \n",
      "2020-02-06               33          33      ABW         2021-02-17   \n",
      "2020-02-07               34          34      ABW         2021-02-17   \n",
      "2020-02-08               35          35      ABW         2021-02-17   \n",
      "2020-02-09               36          36      ABW         2021-02-17   \n",
      "2020-02-10               37          37      ABW         2021-02-17   \n",
      "2020-02-11               38          38      ABW         2021-02-17   \n",
      "2020-02-12               39          39      ABW         2021-02-17   \n",
      "2020-02-13               40          40      ABW         2021-02-17   \n",
      "2020-02-14               41          41      ABW         2021-02-17   \n",
      "2020-02-15               42          42      ABW         2021-02-17   \n",
      "2020-02-16               43          43      ABW         2021-02-17   \n",
      "2020-02-17               44          44      ABW         2021-02-17   \n",
      "2020-02-18               45          45      ABW         2021-02-17   \n",
      "2020-02-19               46          46      ABW         2021-02-17   \n",
      "2020-02-20               47          47      ABW         2021-02-17   \n",
      "2020-02-21               48          48      ABW         2021-02-17   \n",
      "2020-02-22               49          49      ABW         2021-02-17   \n",
      "2020-02-23               50          50      ABW         2021-02-17   \n",
      "2020-02-24               51          51      ABW         2021-02-17   \n",
      "2020-02-25               52          52      ABW         2021-02-17   \n",
      "2020-02-26               53          53      ABW         2021-02-17   \n",
      "2020-02-27               54          54      ABW         2021-02-17   \n",
      "2020-02-28               55          55      ABW         2021-02-17   \n",
      "2020-02-29               56          56      ABW         2021-02-17   \n",
      "2020-03-01               57          57      ABW         2021-02-17   \n",
      "2020-03-02               58          58      ABW         2021-02-17   \n",
      "2020-03-03               59          59      ABW         2021-02-17   \n",
      "\n",
      "               days_since_first_vac Country WHO_region  New_cases  \\\n",
      "Date_reported                                                       \n",
      "2020-01-04                   -410.0   Aruba        AMR        0.0   \n",
      "2020-01-05                   -409.0   Aruba        AMR        0.0   \n",
      "2020-01-06                   -408.0   Aruba        AMR        0.0   \n",
      "2020-01-07                   -407.0   Aruba        AMR        0.0   \n",
      "2020-01-08                   -406.0   Aruba        AMR        0.0   \n",
      "2020-01-09                   -405.0   Aruba        AMR        0.0   \n",
      "2020-01-10                   -404.0   Aruba        AMR        0.0   \n",
      "2020-01-11                   -403.0   Aruba        AMR        0.0   \n",
      "2020-01-12                   -402.0   Aruba        AMR        0.0   \n",
      "2020-01-13                   -401.0   Aruba        AMR        0.0   \n",
      "2020-01-14                   -400.0   Aruba        AMR        0.0   \n",
      "2020-01-15                   -399.0   Aruba        AMR        0.0   \n",
      "2020-01-16                   -398.0   Aruba        AMR        0.0   \n",
      "2020-01-17                   -397.0   Aruba        AMR        0.0   \n",
      "2020-01-18                   -396.0   Aruba        AMR        0.0   \n",
      "2020-01-19                   -395.0   Aruba        AMR        0.0   \n",
      "2020-01-20                   -394.0   Aruba        AMR        0.0   \n",
      "2020-01-21                   -393.0   Aruba        AMR        0.0   \n",
      "2020-01-22                   -392.0   Aruba        AMR        0.0   \n",
      "2020-01-23                   -391.0   Aruba        AMR        0.0   \n",
      "2020-01-24                   -390.0   Aruba        AMR        0.0   \n",
      "2020-01-25                   -389.0   Aruba        AMR        0.0   \n",
      "2020-01-26                   -388.0   Aruba        AMR        0.0   \n",
      "2020-01-27                   -387.0   Aruba        AMR        0.0   \n",
      "2020-01-28                   -386.0   Aruba        AMR        0.0   \n",
      "2020-01-29                   -385.0   Aruba        AMR        0.0   \n",
      "2020-01-30                   -384.0   Aruba        AMR        0.0   \n",
      "2020-01-31                   -383.0   Aruba        AMR        0.0   \n",
      "2020-02-01                   -382.0   Aruba        AMR        0.0   \n",
      "2020-02-02                   -381.0   Aruba        AMR        0.0   \n",
      "2020-02-03                   -380.0   Aruba        AMR        0.0   \n",
      "2020-02-04                   -379.0   Aruba        AMR        0.0   \n",
      "2020-02-05                   -378.0   Aruba        AMR        0.0   \n",
      "2020-02-06                   -377.0   Aruba        AMR        0.0   \n",
      "2020-02-07                   -376.0   Aruba        AMR        0.0   \n",
      "2020-02-08                   -375.0   Aruba        AMR        0.0   \n",
      "2020-02-09                   -374.0   Aruba        AMR        0.0   \n",
      "2020-02-10                   -373.0   Aruba        AMR        0.0   \n",
      "2020-02-11                   -372.0   Aruba        AMR        0.0   \n",
      "2020-02-12                   -371.0   Aruba        AMR        0.0   \n",
      "2020-02-13                   -370.0   Aruba        AMR        0.0   \n",
      "2020-02-14                   -369.0   Aruba        AMR        0.0   \n",
      "2020-02-15                   -368.0   Aruba        AMR        0.0   \n",
      "2020-02-16                   -367.0   Aruba        AMR        0.0   \n",
      "2020-02-17                   -366.0   Aruba        AMR        0.0   \n",
      "2020-02-18                   -365.0   Aruba        AMR        0.0   \n",
      "2020-02-19                   -364.0   Aruba        AMR        0.0   \n",
      "2020-02-20                   -363.0   Aruba        AMR        0.0   \n",
      "2020-02-21                   -362.0   Aruba        AMR        0.0   \n",
      "2020-02-22                   -361.0   Aruba        AMR        0.0   \n",
      "2020-02-23                   -360.0   Aruba        AMR        0.0   \n",
      "2020-02-24                   -359.0   Aruba        AMR        0.0   \n",
      "2020-02-25                   -358.0   Aruba        AMR        0.0   \n",
      "2020-02-26                   -357.0   Aruba        AMR        0.0   \n",
      "2020-02-27                   -356.0   Aruba        AMR        0.0   \n",
      "2020-02-28                   -355.0   Aruba        AMR        0.0   \n",
      "2020-02-29                   -354.0   Aruba        AMR        0.0   \n",
      "2020-03-01                   -353.0   Aruba        AMR        0.0   \n",
      "2020-03-02                   -352.0   Aruba        AMR        0.0   \n",
      "2020-03-03                   -351.0   Aruba        AMR        0.0   \n",
      "\n",
      "               Cumulative_cases  New_deaths  Cumulative_deaths  \n",
      "Date_reported                                                   \n",
      "2020-01-04                    0         0.0                  0  \n",
      "2020-01-05                    0         0.0                  0  \n",
      "2020-01-06                    0         0.0                  0  \n",
      "2020-01-07                    0         0.0                  0  \n",
      "2020-01-08                    0         0.0                  0  \n",
      "2020-01-09                    0         0.0                  0  \n",
      "2020-01-10                    0         0.0                  0  \n",
      "2020-01-11                    0         0.0                  0  \n",
      "2020-01-12                    0         0.0                  0  \n",
      "2020-01-13                    0         0.0                  0  \n",
      "2020-01-14                    0         0.0                  0  \n",
      "2020-01-15                    0         0.0                  0  \n",
      "2020-01-16                    0         0.0                  0  \n",
      "2020-01-17                    0         0.0                  0  \n",
      "2020-01-18                    0         0.0                  0  \n",
      "2020-01-19                    0         0.0                  0  \n",
      "2020-01-20                    0         0.0                  0  \n",
      "2020-01-21                    0         0.0                  0  \n",
      "2020-01-22                    0         0.0                  0  \n",
      "2020-01-23                    0         0.0                  0  \n",
      "2020-01-24                    0         0.0                  0  \n",
      "2020-01-25                    0         0.0                  0  \n",
      "2020-01-26                    0         0.0                  0  \n",
      "2020-01-27                    0         0.0                  0  \n",
      "2020-01-28                    0         0.0                  0  \n",
      "2020-01-29                    0         0.0                  0  \n",
      "2020-01-30                    0         0.0                  0  \n",
      "2020-01-31                    0         0.0                  0  \n",
      "2020-02-01                    0         0.0                  0  \n",
      "2020-02-02                    0         0.0                  0  \n",
      "2020-02-03                    0         0.0                  0  \n",
      "2020-02-04                    0         0.0                  0  \n",
      "2020-02-05                    0         0.0                  0  \n",
      "2020-02-06                    0         0.0                  0  \n",
      "2020-02-07                    0         0.0                  0  \n",
      "2020-02-08                    0         0.0                  0  \n",
      "2020-02-09                    0         0.0                  0  \n",
      "2020-02-10                    0         0.0                  0  \n",
      "2020-02-11                    0         0.0                  0  \n",
      "2020-02-12                    0         0.0                  0  \n",
      "2020-02-13                    0         0.0                  0  \n",
      "2020-02-14                    0         0.0                  0  \n",
      "2020-02-15                    0         0.0                  0  \n",
      "2020-02-16                    0         0.0                  0  \n",
      "2020-02-17                    0         0.0                  0  \n",
      "2020-02-18                    0         0.0                  0  \n",
      "2020-02-19                    0         0.0                  0  \n",
      "2020-02-20                    0         0.0                  0  \n",
      "2020-02-21                    0         0.0                  0  \n",
      "2020-02-22                    0         0.0                  0  \n",
      "2020-02-23                    0         0.0                  0  \n",
      "2020-02-24                    0         0.0                  0  \n",
      "2020-02-25                    0         0.0                  0  \n",
      "2020-02-26                    0         0.0                  0  \n",
      "2020-02-27                    0         0.0                  0  \n",
      "2020-02-28                    0         0.0                  0  \n",
      "2020-02-29                    0         0.0                  0  \n",
      "2020-03-01                    0         0.0                  0  \n",
      "2020-03-02                    0         0.0                  0  \n",
      "2020-03-03                    0         0.0                  0  \n"
     ]
    },
    {
     "data": {
      "image/png": "[encoded data removed]",
      "text/plain": [
       "<Figure size 640x480 with 4 Axes>"
      ]
     },
     "execution_count": 2,
     "metadata": {},
     "output_type": "execute_result"
    },
    {
     "data": {
      "image/png": "[encoded data removed]",
      "text/plain": [
       "<Figure size 640x480 with 4 Axes>"
      ]
     },
     "metadata": {},
     "output_type": "display_data"
    }
   ],
   "source": [
    "# Read the AirPassengers dataset \n",
    "cases = pd.read_csv('./../Data/Final_Datasets/country_death_case.csv',\n",
    "            index_col ='Date_reported', \n",
    "            parse_dates = True)\n",
    "\n",
    "# TODO possibly get rid of this later after we know it works to get the whole dataset\n",
    "cases = cases.head(60)\n",
    "\n",
    "# TODO Need to scale this data down to the correct timeframe and columns\n",
    "\n",
    "\n",
    "# Print the first five rows of the dataset \n",
    "print(cases)\n",
    "  \n",
    "# ETS Decomposition \n",
    "result = seasonal_decompose(cases['New_cases'], period=4) \n",
    "  \n",
    "# ETS plot  \n",
    "result.plot() "
   ]
  },
  {
   "cell_type": "markdown",
   "id": "95e8b8ba-0410-495b-8a07-f841c1b71a8e",
   "metadata": {},
   "source": [
    "Parameter Analysis for ARIMA model"
   ]
  },
  {
   "cell_type": "code",
   "execution_count": 3,
   "id": "3a26d019-3ec1-4cd1-9f89-ba2eef5fada6",
   "metadata": {},
   "outputs": [],
   "source": [
    "# Import the library \n",
    "from pmdarima import auto_arima \n",
    "  \n",
    "# Ignore harmless warnings \n",
    "import warnings \n",
    "warnings.filterwarnings(\"ignore\") "
   ]
  },
  {
   "cell_type": "code",
   "execution_count": 4,
   "id": "ea48a051-cecc-49e2-b26f-7f3c8e029b73",
   "metadata": {},
   "outputs": [
    {
     "name": "stdout",
     "output_type": "stream",
     "text": [
      " ARIMA(0,0,0)(0,0,0)[0]             : AIC=-1269.278, Time=0.03 sec\n",
      "Total fit time: 0.036 seconds\n"
     ]
    },
    {
     "data": {
      "text/html": [
       "<table class=\"simpletable\">\n",
       "<caption>SARIMAX Results</caption>\n",
       "<tr>\n",
       "  <th>Dep. Variable:</th>           <td>y</td>        <th>  No. Observations:  </th>    <td>60</td>    \n",
       "</tr>\n",
       "<tr>\n",
       "  <th>Model:</th>                <td>SARIMAX</td>     <th>  Log Likelihood     </th>  <td>635.639</td> \n",
       "</tr>\n",
       "<tr>\n",
       "  <th>Date:</th>            <td>Sun, 08 Dec 2024</td> <th>  AIC                </th> <td>-1269.278</td>\n",
       "</tr>\n",
       "<tr>\n",
       "  <th>Time:</th>                <td>00:07:10</td>     <th>  BIC                </th> <td>-1267.184</td>\n",
       "</tr>\n",
       "<tr>\n",
       "  <th>Sample:</th>             <td>01-04-2020</td>    <th>  HQIC               </th> <td>-1268.459</td>\n",
       "</tr>\n",
       "<tr>\n",
       "  <th></th>                   <td>- 03-03-2020</td>   <th>                     </th>     <td> </td>    \n",
       "</tr>\n",
       "<tr>\n",
       "  <th>Covariance Type:</th>        <td>opg</td>       <th>                     </th>     <td> </td>    \n",
       "</tr>\n",
       "</table>\n",
       "<table class=\"simpletable\">\n",
       "<tr>\n",
       "     <td></td>       <th>coef</th>     <th>std err</th>      <th>z</th>      <th>P>|z|</th>  <th>[0.025</th>    <th>0.975]</th>  \n",
       "</tr>\n",
       "<tr>\n",
       "  <th>sigma2</th> <td>     1e-10</td> <td> 2.56e-10</td> <td>    0.391</td> <td> 0.696</td> <td>-4.01e-10</td> <td> 6.01e-10</td>\n",
       "</tr>\n",
       "</table>\n",
       "<table class=\"simpletable\">\n",
       "<tr>\n",
       "  <th>Ljung-Box (L1) (Q):</th>     <td>nan</td> <th>  Jarque-Bera (JB):  </th> <td>nan</td>\n",
       "</tr>\n",
       "<tr>\n",
       "  <th>Prob(Q):</th>                <td>nan</td> <th>  Prob(JB):          </th> <td>nan</td>\n",
       "</tr>\n",
       "<tr>\n",
       "  <th>Heteroskedasticity (H):</th> <td>nan</td> <th>  Skew:              </th> <td>nan</td>\n",
       "</tr>\n",
       "<tr>\n",
       "  <th>Prob(H) (two-sided):</th>    <td>nan</td> <th>  Kurtosis:          </th> <td>nan</td>\n",
       "</tr>\n",
       "</table><br/><br/>Warnings:<br/>[1] Covariance matrix calculated using the outer product of gradients (complex-step)."
      ],
      "text/plain": [
       "<class 'statsmodels.iolib.summary.Summary'>\n",
       "\"\"\"\n",
       "                               SARIMAX Results                                \n",
       "==============================================================================\n",
       "Dep. Variable:                      y   No. Observations:                   60\n",
       "Model:                        SARIMAX   Log Likelihood                 635.639\n",
       "Date:                Sun, 08 Dec 2024   AIC                          -1269.278\n",
       "Time:                        00:07:10   BIC                          -1267.184\n",
       "Sample:                    01-04-2020   HQIC                         -1268.459\n",
       "                         - 03-03-2020                                         \n",
       "Covariance Type:                  opg                                         \n",
       "==============================================================================\n",
       "                 coef    std err          z      P>|z|      [0.025      0.975]\n",
       "------------------------------------------------------------------------------\n",
       "sigma2          1e-10   2.56e-10      0.391      0.696   -4.01e-10    6.01e-10\n",
       "===================================================================================\n",
       "Ljung-Box (L1) (Q):                    nan   Jarque-Bera (JB):                  nan\n",
       "Prob(Q):                               nan   Prob(JB):                          nan\n",
       "Heteroskedasticity (H):                nan   Skew:                              nan\n",
       "Prob(H) (two-sided):                   nan   Kurtosis:                          nan\n",
       "===================================================================================\n",
       "\n",
       "Warnings:\n",
       "[1] Covariance matrix calculated using the outer product of gradients (complex-step).\n",
       "\"\"\""
      ]
     },
     "execution_count": 4,
     "metadata": {},
     "output_type": "execute_result"
    }
   ],
   "source": [
    "# Fit auto_arima function to AirPassengers dataset \n",
    "stepwise_fit = auto_arima(cases['New_cases'], start_p = 1, start_q = 1, \n",
    "                          max_p = 3, max_q = 3, m = 12, \n",
    "                          start_P = 0, seasonal = True, \n",
    "                          d = None, D = 1, trace = True, \n",
    "                          error_action ='ignore',   # we don't want to know if an order does not work \n",
    "                          suppress_warnings = True,  # we don't want convergence warnings \n",
    "                          stepwise = True)           # set to stepwise \n",
    "  \n",
    "# To print the summary \n",
    "stepwise_fit.summary() "
   ]
  },
  {
   "cell_type": "markdown",
   "id": "32672470-03c5-40d0-b917-006ba9a50354",
   "metadata": {},
   "source": [
    "Fit ARIMA model to dataset"
   ]
  },
  {
   "cell_type": "code",
   "execution_count": 5,
   "id": "1a543177-ed98-48f1-86dc-0eb529827538",
   "metadata": {},
   "outputs": [
    {
     "name": "stdout",
     "output_type": "stream",
     "text": [
      "RUNNING THE L-BFGS-B CODE\n",
      "\n",
      "           * * *\n",
      "\n",
      "Machine precision = 2.220D-16\n",
      " N =            5     M =           10\n",
      "\n",
      "At X0         0 variables are exactly at the bounds\n",
      "\n",
      "At iterate    0    f= -4.20995D+00    |proj g|=  1.53293D+05\n"
     ]
    },
    {
     "name": "stderr",
     "output_type": "stream",
     "text": [
      " This problem is unconstrained.\n"
     ]
    },
    {
     "name": "stdout",
     "output_type": "stream",
     "text": [
      "  ys=-1.877E+00  -gs= 4.770E-01 BFGS update SKIPPED\n",
      "  ys=-4.035E+00  -gs= 3.169E-01 BFGS update SKIPPED\n",
      "  ys=-4.809E-01  -gs= 7.670E-01 BFGS update SKIPPED\n"
     ]
    },
    {
     "name": "stderr",
     "output_type": "stream",
     "text": [
      "\n",
      " Bad direction in the line search;\n",
      "   refresh the lbfgs memory and restart the iteration.\n"
     ]
    },
    {
     "name": "stdout",
     "output_type": "stream",
     "text": [
      "\n",
      "           * * *\n",
      "\n",
      "Tit   = total number of iterations\n",
      "Tnf   = total number of function evaluations\n",
      "Tnint = total number of segments explored during Cauchy searches\n",
      "Skip  = number of BFGS updates skipped\n",
      "Nact  = number of active bounds at final generalized Cauchy point\n",
      "Projg = norm of the final projected gradient\n",
      "F     = final function value\n",
      "\n",
      "           * * *\n",
      "\n",
      "   N    Tit     Tnf  Tnint  Skip  Nact     Projg        F\n",
      "    5      5     79      2     3     0   3.799D+05  -6.244D+00\n",
      "  F =  -6.2440894393502795     \n",
      "\n",
      "ABNORMAL_TERMINATION_IN_LNSRCH                              \n"
     ]
    },
    {
     "name": "stderr",
     "output_type": "stream",
     "text": [
      "\n",
      " Line search cannot locate an adequate point after MAXLS\n",
      "  function and gradient evaluations.\n",
      "  Previous x, f and g restored.\n",
      " Possible causes: 1 error in function or gradient evaluation;\n",
      "                  2 rounding error dominate computation.\n"
     ]
    },
    {
     "data": {
      "text/html": [
       "<table class=\"simpletable\">\n",
       "<caption>SARIMAX Results</caption>\n",
       "<tr>\n",
       "  <th>Dep. Variable:</th>              <td>New_cases</td>           <th>  No. Observations:  </th>    <td>30</td>   \n",
       "</tr>\n",
       "<tr>\n",
       "  <th>Model:</th>           <td>SARIMAX(0, 1, 1)x(2, 1, 1, 12)</td> <th>  Log Likelihood     </th>  <td>187.323</td>\n",
       "</tr>\n",
       "<tr>\n",
       "  <th>Date:</th>                   <td>Sun, 08 Dec 2024</td>        <th>  AIC                </th> <td>-364.645</td>\n",
       "</tr>\n",
       "<tr>\n",
       "  <th>Time:</th>                       <td>00:08:08</td>            <th>  BIC                </th> <td>-360.479</td>\n",
       "</tr>\n",
       "<tr>\n",
       "  <th>Sample:</th>                    <td>01-04-2020</td>           <th>  HQIC               </th> <td>-364.231</td>\n",
       "</tr>\n",
       "<tr>\n",
       "  <th></th>                          <td>- 02-02-2020</td>          <th>                     </th>     <td> </td>   \n",
       "</tr>\n",
       "<tr>\n",
       "  <th>Covariance Type:</th>               <td>opg</td>              <th>                     </th>     <td> </td>   \n",
       "</tr>\n",
       "</table>\n",
       "<table class=\"simpletable\">\n",
       "<tr>\n",
       "      <td></td>        <th>coef</th>     <th>std err</th>      <th>z</th>      <th>P>|z|</th>  <th>[0.025</th>    <th>0.975]</th>  \n",
       "</tr>\n",
       "<tr>\n",
       "  <th>ma.L1</th>    <td>-3.359e-11</td> <td> 2.28e-18</td> <td>-1.47e+07</td> <td> 0.000</td> <td>-3.36e-11</td> <td>-3.36e-11</td>\n",
       "</tr>\n",
       "<tr>\n",
       "  <th>ar.S.L12</th> <td>-8.838e-15</td> <td>       -0</td> <td>      inf</td> <td> 0.000</td> <td>-8.84e-15</td> <td>-8.84e-15</td>\n",
       "</tr>\n",
       "<tr>\n",
       "  <th>ar.S.L24</th> <td>-8.838e-15</td> <td> 4.34e-29</td> <td>-2.04e+14</td> <td> 0.000</td> <td>-8.84e-15</td> <td>-8.84e-15</td>\n",
       "</tr>\n",
       "<tr>\n",
       "  <th>ma.S.L12</th> <td> 8.838e-15</td> <td> 1.06e-31</td> <td> 8.31e+16</td> <td> 0.000</td> <td> 8.84e-15</td> <td> 8.84e-15</td>\n",
       "</tr>\n",
       "<tr>\n",
       "  <th>sigma2</th>   <td> 2.263e-12</td> <td>    6e-10</td> <td>    0.004</td> <td> 0.997</td> <td>-1.17e-09</td> <td> 1.18e-09</td>\n",
       "</tr>\n",
       "</table>\n",
       "<table class=\"simpletable\">\n",
       "<tr>\n",
       "  <th>Ljung-Box (L1) (Q):</th>     <td>nan</td> <th>  Jarque-Bera (JB):  </th> <td>nan</td>\n",
       "</tr>\n",
       "<tr>\n",
       "  <th>Prob(Q):</th>                <td>nan</td> <th>  Prob(JB):          </th> <td>nan</td>\n",
       "</tr>\n",
       "<tr>\n",
       "  <th>Heteroskedasticity (H):</th> <td>nan</td> <th>  Skew:              </th> <td>nan</td>\n",
       "</tr>\n",
       "<tr>\n",
       "  <th>Prob(H) (two-sided):</th>    <td>nan</td> <th>  Kurtosis:          </th> <td>nan</td>\n",
       "</tr>\n",
       "</table><br/><br/>Warnings:<br/>[1] Covariance matrix calculated using the outer product of gradients (complex-step).<br/>[2] Covariance matrix is singular or near-singular, with condition number    inf. Standard errors may be unstable."
      ],
      "text/plain": [
       "<class 'statsmodels.iolib.summary.Summary'>\n",
       "\"\"\"\n",
       "                                     SARIMAX Results                                      \n",
       "==========================================================================================\n",
       "Dep. Variable:                          New_cases   No. Observations:                   30\n",
       "Model:             SARIMAX(0, 1, 1)x(2, 1, 1, 12)   Log Likelihood                 187.323\n",
       "Date:                            Sun, 08 Dec 2024   AIC                           -364.645\n",
       "Time:                                    00:08:08   BIC                           -360.479\n",
       "Sample:                                01-04-2020   HQIC                          -364.231\n",
       "                                     - 02-02-2020                                         \n",
       "Covariance Type:                              opg                                         \n",
       "==============================================================================\n",
       "                 coef    std err          z      P>|z|      [0.025      0.975]\n",
       "------------------------------------------------------------------------------\n",
       "ma.L1      -3.359e-11   2.28e-18  -1.47e+07      0.000   -3.36e-11   -3.36e-11\n",
       "ar.S.L12   -8.838e-15         -0        inf      0.000   -8.84e-15   -8.84e-15\n",
       "ar.S.L24   -8.838e-15   4.34e-29  -2.04e+14      0.000   -8.84e-15   -8.84e-15\n",
       "ma.S.L12    8.838e-15   1.06e-31   8.31e+16      0.000    8.84e-15    8.84e-15\n",
       "sigma2      2.263e-12      6e-10      0.004      0.997   -1.17e-09    1.18e-09\n",
       "===================================================================================\n",
       "Ljung-Box (L1) (Q):                    nan   Jarque-Bera (JB):                  nan\n",
       "Prob(Q):                               nan   Prob(JB):                          nan\n",
       "Heteroskedasticity (H):                nan   Skew:                              nan\n",
       "Prob(H) (two-sided):                   nan   Kurtosis:                          nan\n",
       "===================================================================================\n",
       "\n",
       "Warnings:\n",
       "[1] Covariance matrix calculated using the outer product of gradients (complex-step).\n",
       "[2] Covariance matrix is singular or near-singular, with condition number    inf. Standard errors may be unstable.\n",
       "\"\"\""
      ]
     },
     "execution_count": 5,
     "metadata": {},
     "output_type": "execute_result"
    }
   ],
   "source": [
    "# Split data into train / test sets \n",
    "train = cases.iloc[:len(cases)-30] \n",
    "test = cases.iloc[len(cases)-30:] # set one month(30 days) for testing \n",
    "  \n",
    "# Fit a SARIMAX(0, 1, 1)x(2, 1, 1, 12) on the training set \n",
    "from statsmodels.tsa.statespace.sarimax import SARIMAX \n",
    "  \n",
    "model = SARIMAX(train['New_cases'],  \n",
    "                order = (0, 1, 1),  \n",
    "                seasonal_order =(2, 1, 1, 12)) \n",
    "  \n",
    "result = model.fit() \n",
    "result.summary() "
   ]
  },
  {
   "cell_type": "markdown",
   "id": "02fa161f-bca2-4d0a-9288-776ef73745e5",
   "metadata": {},
   "source": [
    "Predictions for ARIMA model"
   ]
  },
  {
   "cell_type": "code",
   "execution_count": 7,
   "id": "9d309663-4884-48d6-a3ca-f61e66b4059c",
   "metadata": {},
   "outputs": [
    {
     "data": {
      "text/plain": [
       "<AxesSubplot: xlabel='Date_reported'>"
      ]
     },
     "execution_count": 7,
     "metadata": {},
     "output_type": "execute_result"
    },
    {
     "data": {
      "image/png": "[encoded data removed]",
      "text/plain": [
       "<Figure size 640x480 with 1 Axes>"
      ]
     },
     "metadata": {},
     "output_type": "display_data"
    }
   ],
   "source": [
    "start = len(train) \n",
    "end = len(train) + len(test) - 1\n",
    "  \n",
    "# Predictions for one-year against the test set \n",
    "predictions = result.predict(start, end, \n",
    "                             typ = 'levels').rename(\"Predictions\") \n",
    "  \n",
    "# plot predictions and actual values \n",
    "predictions.plot(legend = True) \n",
    "test['New_cases'].plot(legend = True) "
   ]
  },
  {
   "cell_type": "markdown",
   "id": "7c49b7ad-f125-41ba-84ce-48ac2e4d2a2a",
   "metadata": {},
   "source": [
    "Evaluate the Model using MSE and RMSE"
   ]
  },
  {
   "cell_type": "code",
   "execution_count": 10,
   "id": "51016e31-1721-426f-b6cf-88b94d7a8201",
   "metadata": {},
   "outputs": [
    {
     "data": {
      "text/plain": [
       "0.0"
      ]
     },
     "execution_count": 10,
     "metadata": {},
     "output_type": "execute_result"
    }
   ],
   "source": [
    "# Load specific evaluation tools \n",
    "from sklearn.metrics import mean_squared_error \n",
    "from statsmodels.tools.eval_measures import rmse \n",
    "  \n",
    "# Calculate root mean squared error \n",
    "rmse(test[\"New_cases\"], predictions) \n",
    "  \n",
    "# Calculate mean squared error \n",
    "mean_squared_error(test[\"New_cases\"], predictions) "
   ]
  },
  {
   "cell_type": "markdown",
   "id": "fda7ce52-0ff7-4c59-b081-d48afa2b57a9",
   "metadata": {},
   "source": [
    "Forecast using ARIMA model"
   ]
  },
  {
   "cell_type": "code",
   "execution_count": 12,
   "id": "b6986fd3-12fb-46c9-9973-da7dcaba6574",
   "metadata": {},
   "outputs": [
    {
     "name": "stdout",
     "output_type": "stream",
     "text": [
      "RUNNING THE L-BFGS-B CODE\n",
      "\n",
      "           * * *\n",
      "\n",
      "Machine precision = 2.220D-16\n",
      " N =            5     M =           10\n",
      "\n",
      "At X0         0 variables are exactly at the bounds\n",
      "\n",
      "At iterate    0    f= -7.40197D+00    |proj g|=  3.86290D+04\n"
     ]
    },
    {
     "name": "stderr",
     "output_type": "stream",
     "text": [
      " This problem is unconstrained.\n"
     ]
    },
    {
     "name": "stdout",
     "output_type": "stream",
     "text": [
      "  ys=-1.017E-06  -gs= 6.439E-04 BFGS update SKIPPED\n"
     ]
    },
    {
     "name": "stderr",
     "output_type": "stream",
     "text": [
      "\n",
      " Bad direction in the line search;\n",
      "   refresh the lbfgs memory and restart the iteration.\n"
     ]
    },
    {
     "name": "stdout",
     "output_type": "stream",
     "text": [
      "\n",
      "           * * *\n",
      "\n",
      "Tit   = total number of iterations\n",
      "Tnf   = total number of function evaluations\n",
      "Tnint = total number of segments explored during Cauchy searches\n",
      "Skip  = number of BFGS updates skipped\n",
      "Nact  = number of active bounds at final generalized Cauchy point\n",
      "Projg = norm of the final projected gradient\n",
      "F     = final function value\n",
      "\n",
      "           * * *\n",
      "\n",
      "   N    Tit     Tnf  Tnint  Skip  Nact     Projg        F\n",
      "    5      3     66      2     1     0   2.802D+04  -7.822D+00\n",
      "  F =  -7.8218742791187150     \n",
      "\n",
      "ABNORMAL_TERMINATION_IN_LNSRCH                              \n"
     ]
    },
    {
     "name": "stderr",
     "output_type": "stream",
     "text": [
      "\n",
      " Line search cannot locate an adequate point after MAXLS\n",
      "  function and gradient evaluations.\n",
      "  Previous x, f and g restored.\n",
      " Possible causes: 1 error in function or gradient evaluation;\n",
      "                  2 rounding error dominate computation.\n"
     ]
    },
    {
     "data": {
      "text/plain": [
       "<AxesSubplot: xlabel='Date_reported'>"
      ]
     },
     "execution_count": 12,
     "metadata": {},
     "output_type": "execute_result"
    },
    {
     "data": {
      "image/png": "[encoded data removed]",
      "text/plain": [
       "<Figure size 1200x500 with 1 Axes>"
      ]
     },
     "metadata": {},
     "output_type": "display_data"
    }
   ],
   "source": [
    "# Train the model on the full dataset \n",
    "model = model = SARIMAX(cases['New_cases'],  \n",
    "                        order = (0, 1, 1),  \n",
    "                        seasonal_order =(2, 1, 1, 12)) \n",
    "result = model.fit() \n",
    "  \n",
    "# Forecast for the next 3 years \n",
    "forecast = result.predict(start = len(cases),  \n",
    "                          end = (len(cases)-1) + 3 * 12,  \n",
    "                          typ = 'levels').rename('Forecast') \n",
    "  \n",
    "# Plot the forecast values \n",
    "cases['New_cases'].plot(figsize = (12, 5), legend = True) \n",
    "forecast.plot(legend = True) "
   ]
  },
  {
   "cell_type": "code",
   "execution_count": null,
   "id": "2a35f197-840a-4ed3-baad-0203a6588066",
   "metadata": {},
   "outputs": [],
   "source": []
  }
 ],
 "metadata": {
  "kernelspec": {
   "display_name": "Python 3 (ipykernel)",
   "language": "python",
   "name": "python3"
  },
  "language_info": {
   "codemirror_mode": {
    "name": "ipython",
    "version": 3
   },
   "file_extension": ".py",
   "mimetype": "text/x-python",
   "name": "python",
   "nbconvert_exporter": "python",
   "pygments_lexer": "ipython3",
   "version": "3.10.8"
  }
 },
 "nbformat": 4,
 "nbformat_minor": 5
}
